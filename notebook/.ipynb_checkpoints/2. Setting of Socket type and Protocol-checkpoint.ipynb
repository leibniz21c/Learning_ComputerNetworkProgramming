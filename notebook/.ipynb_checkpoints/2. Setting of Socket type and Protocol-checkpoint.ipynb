{
 "cells": [
  {
   "cell_type": "markdown",
   "metadata": {},
   "source": [
    "2.Setting of Socket type and Protocol\n",
    "=======\n",
    "---\n",
    "### 1. Protocol Family\n",
    "### 2. Type of Socket\n",
    "=======\n",
    "#### 1. Protocol Family\n",
    "*Definition.2.1 : Protocol* : \n",
    "*Communication requirements for data transmission and reception between computers .*\n",
    "<p><p>\n",
    "If you create a socket, you have to set the protocol.\n",
    "\n",
    "```c\n",
    "#include <sys/socket.h>\n",
    "int socket(int domain, int type, int protocol);\n",
    "```\n",
    "1. domain : \n",
    "\t- Selecting the Protocol\n",
    "\t- PF_INET : IPv4 Internet Protocol\n",
    "\t- PF_INET6 : IPv6 Internet Protocol\n",
    "\t- PF_LOCAL : UNIX BSD Protocol for local communication\n",
    "\t- PF_PACKET : Protocol for Low level socket\n",
    "\t- PF_IPX : IPX Novel protocol\n",
    "2. type : \n",
    "\t- Socket data transfer method\n",
    "\t- SOCK_STREAM : TCP, connection oriented\n",
    "\t- SOCK_DGRAM : UDP, connectionless\n",
    "3. protocol : just 0\n",
    "\n",
    "#### 2. Type of Socket\n",
    "TCP : connection oriented. If you want ordered data communication socket, you have to choose this. (http, ftp, telnet, smtp)\n",
    "UDP : connectionless. If you want to use this protocol, environment should be a local setting. (game, straming)\n",
    "\n"
   ]
  },
  {
   "cell_type": "code",
   "execution_count": null,
   "metadata": {},
   "outputs": [],
   "source": []
  }
 ],
 "metadata": {
  "kernelspec": {
   "display_name": "Python 3",
   "language": "python",
   "name": "python3"
  },
  "language_info": {
   "codemirror_mode": {
    "name": "ipython",
    "version": 3
   },
   "file_extension": ".py",
   "mimetype": "text/x-python",
   "name": "python",
   "nbconvert_exporter": "python",
   "pygments_lexer": "ipython3",
   "version": "3.7.6"
  }
 },
 "nbformat": 4,
 "nbformat_minor": 4
}
