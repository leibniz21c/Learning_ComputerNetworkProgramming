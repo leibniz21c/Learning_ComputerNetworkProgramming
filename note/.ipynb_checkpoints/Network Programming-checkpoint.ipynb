{
 "cells": [
  {
   "cell_type": "markdown",
   "metadata": {},
   "source": [
    "# Network Programming\n",
    "## 1. Introduction\n",
    "#### 1.1. Classification of Network Programming\n",
    "#### 1.2. TCP/IP Protocol\n",
    "#### 1.3. Client-Server Communication Model\n",
    "## 2. UNIX BSD Socket System call\n",
    "#### 2.1. Understanding of Socket\n",
    "#### 2.2. Internet address transformation\n",
    "#### 2.3. Procedure of Client Programming\n",
    "#### 2.4. Procedure of Server Programming\n",
    "#### 2.5. UNIX System Call about Socket\n",
    "## 3. Client-Sever Talk Program\n",
    "## 4. Application of UNIX Socket\n",
    "## 5. Windows Socket Programming(Winsock) "
   ]
  }
 ],
 "metadata": {
  "kernelspec": {
   "display_name": "Python 3",
   "language": "python",
   "name": "python3"
  },
  "language_info": {
   "codemirror_mode": {
    "name": "ipython",
    "version": 3
   },
   "file_extension": ".py",
   "mimetype": "text/x-python",
   "name": "python",
   "nbconvert_exporter": "python",
   "pygments_lexer": "ipython3",
   "version": "3.7.6"
  }
 },
 "nbformat": 4,
 "nbformat_minor": 4
}
